{
 "cells": [
  {
   "cell_type": "code",
   "execution_count": 1,
   "id": "5a66273c",
   "metadata": {},
   "outputs": [],
   "source": [
    "import numpy as np\n"
   ]
  },
  {
   "cell_type": "code",
   "execution_count": 2,
   "id": "11e5313b",
   "metadata": {},
   "outputs": [
    {
     "data": {
      "text/plain": [
       "array([ 3,  6,  5,  1,  8, 11,  5,  1, 11,  3,  2,  3,  1,  5,  3])"
      ]
     },
     "execution_count": 2,
     "metadata": {},
     "output_type": "execute_result"
    }
   ],
   "source": [
    "rand_data = np.random.randint(1, 12,15)\n",
    "rand_data"
   ]
  },
  {
   "cell_type": "code",
   "execution_count": 6,
   "id": "b2ee8ec0",
   "metadata": {},
   "outputs": [
    {
     "data": {
      "text/plain": [
       "array([[ 3,  6,  5,  1,  8],\n",
       "       [11,  5,  1, 11,  3],\n",
       "       [ 2,  3,  1,  5,  3]])"
      ]
     },
     "execution_count": 6,
     "metadata": {},
     "output_type": "execute_result"
    }
   ],
   "source": [
    "rand_data = rand_data.reshape(3,5) \n",
    "rand_data"
   ]
  },
  {
   "cell_type": "code",
   "execution_count": 4,
   "id": "4e0a409f",
   "metadata": {},
   "outputs": [
    {
     "name": "stdout",
     "output_type": "stream",
     "text": [
      "(15,)\n"
     ]
    }
   ],
   "source": [
    "print(rand_data.shape)"
   ]
  },
  {
   "cell_type": "code",
   "execution_count": 7,
   "id": "2365749e",
   "metadata": {},
   "outputs": [
    {
     "data": {
      "text/plain": [
       "array([[ 3,  6,  5,  1,  0],\n",
       "       [ 0,  5,  1, 11,  3],\n",
       "       [ 2,  3,  1,  0,  3]])"
      ]
     },
     "execution_count": 7,
     "metadata": {},
     "output_type": "execute_result"
    }
   ],
   "source": [
    "max_index = np.argmax(rand_data, axis=1)\n",
    "row_index = np.arange(rand_data.shape[0]) \n",
    "multi_index = np.array([row_index, max_index]) \n",
    "linear_index = np.ravel_multi_index(multi_index, rand_data.shape) \n",
    "rand_data.reshape((-1))[linear_index] = 0 \n",
    "rand_data "
   ]
  },
  {
   "cell_type": "code",
   "execution_count": 9,
   "id": "ec327ba8",
   "metadata": {},
   "outputs": [
    {
     "name": "stdout",
     "output_type": "stream",
     "text": [
      "[[10 11  7]\n",
      " [10  2  1]\n",
      " [10  1 10]\n",
      " [ 7  9  8]]\n",
      "(4, 3)\n",
      "int32\n"
     ]
    }
   ],
   "source": [
    "arr = np.random.randint(1, 12,(4,3),dtype = 'int32') \n",
    "print(arr) \n",
    "print(arr.shape)\n",
    "print(arr.dtype)"
   ]
  },
  {
   "cell_type": "code",
   "execution_count": 10,
   "id": "9db7682a",
   "metadata": {},
   "outputs": [
    {
     "name": "stdout",
     "output_type": "stream",
     "text": [
      "[2. 1.]\n",
      "[[0.89442719 0.70710678]\n",
      " [0.4472136  0.70710678]]\n"
     ]
    }
   ],
   "source": [
    "eigen = np.array([[3,-2],  \n",
    "              [1,0]]) \n",
    "eigen_values, eigen_vectors = np.linalg.eig(eigen)\n",
    "\n",
    "print(eigen_values) \n",
    "\n",
    "print(eigen_vectors)"
   ]
  },
  {
   "cell_type": "code",
   "execution_count": 18,
   "id": "f66a0b53",
   "metadata": {},
   "outputs": [
    {
     "name": "stdout",
     "output_type": "stream",
     "text": [
      "4\n"
     ]
    }
   ],
   "source": [
    "diag_arr = np.array([[0,1,2],\n",
    "               [3 ,4 ,5]]) \n",
    "trace = np.trace(diag_arr)\n",
    "\n",
    "print(trace)"
   ]
  },
  {
   "cell_type": "code",
   "execution_count": 20,
   "id": "cfde02f9",
   "metadata": {},
   "outputs": [
    {
     "data": {
      "text/plain": [
       "array([1, 2, 3, 4, 5, 6])"
      ]
     },
     "execution_count": 20,
     "metadata": {},
     "output_type": "execute_result"
    }
   ],
   "source": [
    "temp = np.arange(1,7) \n",
    "temp"
   ]
  },
  {
   "cell_type": "code",
   "execution_count": 21,
   "id": "847f6fec",
   "metadata": {},
   "outputs": [
    {
     "data": {
      "text/plain": [
       "array([[1, 2],\n",
       "       [3, 4],\n",
       "       [5, 6]])"
      ]
     },
     "execution_count": 21,
     "metadata": {},
     "output_type": "execute_result"
    }
   ],
   "source": [
    "temp = temp.reshape(3,2) \n",
    "temp"
   ]
  },
  {
   "cell_type": "code",
   "execution_count": 22,
   "id": "b9f0c53d",
   "metadata": {},
   "outputs": [
    {
     "data": {
      "text/plain": [
       "array([[1, 2, 3],\n",
       "       [4, 5, 6]])"
      ]
     },
     "execution_count": 22,
     "metadata": {},
     "output_type": "execute_result"
    }
   ],
   "source": [
    "temp = temp.reshape(2,3)  \n",
    "temp"
   ]
  },
  {
   "cell_type": "code",
   "execution_count": 23,
   "id": "33fbf472",
   "metadata": {},
   "outputs": [],
   "source": [
    "from matplotlib import pyplot as plt"
   ]
  },
  {
   "cell_type": "code",
   "execution_count": 17,
   "id": "3e2b8cb6",
   "metadata": {},
   "outputs": [
    {
     "data": {
      "image/png": "[encoded data removed]",
      "text/plain": [
       "<Figure size 640x480 with 1 Axes>"
      ]
     },
     "metadata": {},
     "output_type": "display_data"
    }
   ],
   "source": [
    "languages = ['Java', 'Python', 'PHP',\n",
    "        'JavaScript', 'C#', 'C++']\n",
    " \n",
    "\n",
    "popularity = [22.2, 17.6, 8.8, 8, 7.7, 6.7] \n",
    "\n",
    "explode = (0.1, 0, 0, 0,0,0) \n",
    "fig, ax = plt.subplots() \n",
    "ax.pie(popularity, explode=explode,labels=languages, autopct='%1.1f%%',shadow=True, startangle=90) \n",
    "plt.show()"
   ]
  },
  {
   "cell_type": "code",
   "execution_count": null,
   "id": "c89ec2c0",
   "metadata": {},
   "outputs": [],
   "source": []
  }
 ],
 "metadata": {
  "kernelspec": {
   "display_name": "Python 3 (ipykernel)",
   "language": "python",
   "name": "python3"
  },
  "language_info": {
   "codemirror_mode": {
    "name": "ipython",
    "version": 3
   },
   "file_extension": ".py",
   "mimetype": "text/x-python",
   "name": "python",
   "nbconvert_exporter": "python",
   "pygments_lexer": "ipython3",
   "version": "3.10.7"
  }
 },
 "nbformat": 4,
 "nbformat_minor": 5
}
